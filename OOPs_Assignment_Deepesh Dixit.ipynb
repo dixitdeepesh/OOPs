{
  "nbformat": 4,
  "nbformat_minor": 0,
  "metadata": {
    "colab": {
      "provenance": [],
      "collapsed_sections": [
        "0OiNYVgi7tfx"
      ]
    },
    "kernelspec": {
      "name": "python3",
      "display_name": "Python 3"
    },
    "language_info": {
      "name": "python"
    }
  },
  "cells": [
    {
      "cell_type": "markdown",
      "source": [
        "# OOPs Assignment"
      ],
      "metadata": {
        "id": "w0LnlJie7Tpo"
      }
    },
    {
      "cell_type": "markdown",
      "source": [
        "##Python OOPS Questions  \n",
        "1.**What is Object-Oriented Programming (OOP)?**  \n",
        "- Object-Oriented Programming (**OOP**) is a programming approach that structures software design around objects rather than functions and logic. An object is a collection of data (attributes) and functions (methods) that operate on the data. OOP helps in organizing complex programs, making them easier to develop, maintain, and scale.\n",
        "Python is a multi-paradigm language that supports object-oriented programming along with other paradigms like procedural and functional programming."
      ],
      "metadata": {
        "id": "0OiNYVgi7tfx"
      }
    },
    {
      "cell_type": "markdown",
      "source": [
        " 2.**What is a class in OOP?**\n",
        "- A **class** in Object-Oriented Programming (OOP) is a user-defined data type that acts as a blueprint for creating objects. It defines a set of attributes (variables) and methods (functions) that the created objects will have. A class does not allocate memory until objects are instantiated from it.\n",
        "\n"
      ],
      "metadata": {
        "id": "7wfSBDOH8f2u"
      }
    },
    {
      "cell_type": "markdown",
      "source": [
        "3.**What is an object in OOP?**\n",
        "- An **object** is an instance of a class.\n",
        "It is a concrete entity that holds data (in the form of attributes) and behavior (in the form of methods) defined by its class. While a class defines the blueprint, an object is the actual implementation in memory with its own distinct values for the class’s attributes.\n",
        "In OOP, multiple objects can be created from a single class, each with its own state."
      ],
      "metadata": {
        "id": "VQ7EWi9e9CQr"
      }
    },
    {
      "cell_type": "markdown",
      "source": [
        "4.**What is the difference between abstraction and encapsulation ?**\n",
        "- Both are key ideas in Object-Oriented Programming (OOP), but they solve different problems.\n",
        " 1. **Abstraction**\n",
        " - **What It Is**: Abstraction is like simplifying things. It’s about hiding the complicated details and showing only the important, easy-to-understand parts to the user. Think of it like a TV remote: you press \"power\" to turn it on, but you don’t need to know how the circuits and signals work inside.\n",
        " - **Purpose**: Helps you focus on what something does, not how it does it.\n",
        " - **How It Works in Python**: You create a class that shows only the essential features and hides the messy inner workings.\n",
        " 2. **Encapsulation**\n",
        " - **What It Is**: Encapsulation is like putting something in a protective box. It bundles data (like properties) and the actions (methods) that use it together, and controls who can touch the data. It’s like locking your diary so only you can write in it, but you might let others read a page.\n",
        " - **Purpose**: Keeps data safe and prevents outsiders from messing with it directly.\n",
        " - **How It Works in Python**: You use private variables (with __) and provide special methods (getters and setters) to access or change them safely.\n",
        "\n"
      ],
      "metadata": {
        "id": "sknlebHm9GYl"
      }
    },
    {
      "cell_type": "markdown",
      "source": [
        "5.**What are dunder methods in Python?**\n",
        "- In Python, dunder methods (short for \"double underscore methods\") are special, predefined methods that have double underscores ()at the beginning and end of their names.They are also known as magic methods or special methods.\n",
        "These methods are automatically invoked by Python when certain operations or functions are performed on an object.  \n",
        " **Characteristics of Dunder Methods:**  \n",
        " * Always surrounded by double underscores (__methodname__).  \n",
        " * Provide a way to customize the behavior of built-in functions and operators for user-defined classes.  \n",
        " * Automatically triggered by specific syntax or function calls.  \n",
        " * Can be explicitly called but are primarily intended to be invoked implicitly.\n"
      ],
      "metadata": {
        "id": "ZDFDhwqW9fVS"
      }
    },
    {
      "cell_type": "markdown",
      "source": [
        "6.**Explain the concept of inheritance in OOP?**\n",
        "- Inheritance is an Object-Oriented Programming (OOP) concept where a new class (child class or subclass) derives the properties and behaviors (attributes and methods) from an existing class (parent class or base class).  \n",
        "It allows code reusability and hierarchical classification by enabling new classes to extend the functionality of existing classes without rewriting the original code.  \n",
        " **Purpose of Inheritance:**\n",
        " * To promote code reusability by reusing existing class code.\n",
        " * To support extensibility by adding or modifying functionalities in the derived class.\n",
        " * To achieve hierarchical relationships among classes.\n",
        "\n",
        " **Types of Inheritance in Python:**\n",
        " 1.\t**Single Inheritance** — One child class inherits from one parent class.\n",
        " 2.\t**Multiple Inheritance** — A child class inherits from more than one parent class.\n",
        " 3.\t**Multilevel Inheritance** — A class inherits from a child class, which in turn inherits from another class.\n",
        " 4.\t**Hierarchical Inheritance** — Multiple child classes inherit from a single parent class.\n",
        " 5.\t**Hybrid Inheritance** — A combination of two or more types of inheritance.\n"
      ],
      "metadata": {
        "id": "0M_rQpiMg7dD"
      }
    },
    {
      "cell_type": "markdown",
      "source": [
        "7.**What is Polymorphism in OOP?**\n",
        "- Polymorphism is a fundamental concept in **Object-Oriented Programming (OOP)** that allows objects of different classes to be treated as objects of a common super class. It enables a single interface to represent different underlying data types and behaviors. The term **polymorphism** originates from the Greek words *poly* meaning many and *morph* meaning forms, thus it literally means **many forms**. In programming, this allows the same function or method name to behave differently based on the object calling it.  \n",
        "The primary purpose of polymorphism is to promote **flexibility** and **code reusability** by allowing methods to work in different ways depending on the object instance.  \n",
        "It also supports **code extensibility** as new classes can be introduced without altering existing code, provided they follow a shared interface or base class.\n",
        "\n",
        " Types of Polymorphism:\n",
        "\n",
        "| Type                     | Description |\n",
        " |:------------------------|:------------|\n",
        " | **Compile-time Polymorphism** | Achieved through method or function overloading. Although Python doesn’t natively support method overloading, it can be simulated using default arguments or `*args` and `**kwargs`. |\n",
        " | **Run-time Polymorphism**      | Achieved through method overriding, where a subclass provides its own implementation of a method already defined in its superclass. The method to be executed is determined at runtime based on the object type. |  \n",
        "\n",
        "   \n",
        "   - In **Python**, polymorphism is commonly applied through **inheritance** and **dynamic method resolution**, making it a powerful tool for managing and scaling complex applications.\n"
      ],
      "metadata": {
        "id": "jzr4lx_ih7sx"
      }
    },
    {
      "cell_type": "markdown",
      "source": [
        "8.**How is Encapsulation Achieved in Python?**\n",
        "\n",
        "- Encapsulation is an important concept in **Object-Oriented Programming (OOP)** that helps in protecting the internal data of an object from being accessed directly from outside the class. It is achieved by keeping the data (variables) private and providing public methods to access or modify them.  \n",
        "In **Python**, encapsulation can be done by using different types of **access modifiers**:  \n",
        " - **Public**: Variables that can be accessed from anywhere in the program.\n",
        " - **Protected**: Variables prefixed with a single underscore (e.g., `_value`) that are intended to be accessed only within the class and its subclasses.\n",
        " - **Private**: Variables prefixed with double underscores (e.g., `__value`) that cannot be accessed directly from outside the class.\n",
        "\n",
        " To interact with private data, Python provides special methods called **getters** and **setters**:\n",
        "\n",
        " - **Getter Method**: Used to access the value of a private variable.\n",
        " - **Setter Method**: Used to modify the value of a private variable.  \n",
        "\n",
        " This way, the internal details of a class remain hidden from the outside world, and only selected information is shared when needed.  \n",
        " **Advantages of Encapsulation:**  \n",
        " - Enhances **data security**\n",
        " - Provides **controlled access** to class members\n",
        " - Keeps the code **clean, organized**, and **maintainable**\n"
      ],
      "metadata": {
        "id": "uRG0fGDu9UtA"
      }
    },
    {
      "cell_type": "markdown",
      "source": [
        "9.**What is a Constructor in Python?**\n",
        "- In Python, a constructor is a special type of method that is automatically called when an object of a class is created. The main purpose of a constructor is to initialize the object by setting initial values to its attributes or performing necessary setup tasks. In Python, the constructor method is always named `__init__()`. This method takes the `self` keyword as its first parameter, which refers to the current instance of the class, and can also accept other arguments to set specific values during object creation.  \n",
        "Without a constructor, we would have to set the values for object attributes separately after creating an object, which is not efficient. By using a constructor, we ensure that every object starts with a well-defined state as soon as it is created. This makes the program more organized, readable, and error-free.\n",
        "\n",
        "\n"
      ],
      "metadata": {
        "id": "C0obdfYbmaw2"
      }
    },
    {
      "cell_type": "markdown",
      "source": [
        "10.**What are Class and Static Methods in Python?**\n",
        "- In Python, methods are functions that belong to a class and perform actions on class or object data. Apart from normal instance methods, Python also supports **class methods** and **static methods**, which are special types of methods with different purposes and behaviors.  \n",
        " A **class method** is a method that works with the class itself rather than individual objects. It is declared using the `@classmethod` decorator and takes `cls` as its first argument instead of `self`. This allows the method to access and modify class-level attributes, which are shared among all instances of the class. Class methods are useful when we need to perform operations related to the class as a whole, like keeping track of how many objects have been created.\n",
        "\n",
        " On the other hand, a **static method** is defined using the `@staticmethod` decorator. It does not take either `self` or `cls` as its first argument. This type of method cannot access or modify the class or instance variables. It behaves like a regular function placed inside the class’s namespace. Static methods are used when some operation logically belongs to the class but does not require access to the class or instance data.\n"
      ],
      "metadata": {
        "id": "Bvi7ADaim9IZ"
      }
    },
    {
      "cell_type": "markdown",
      "source": [
        "11.**What is Method Overloading in Python?**\n",
        "- Method overloading is a concept in **Object-Oriented Programming (OOP)** where multiple methods with the same name but different numbers or types of parameters can exist within the same class. In many programming languages like Java or C++, method overloading is directly supported by the compiler, which decides which method to call based on the number and type of arguments provided.  \n",
        "However, Python does not support traditional method overloading in the same way because a class cannot have multiple methods with the same name. If we define multiple methods with the same name, the last defined method will override the previous ones. But Python allows us to achieve similar behavior using **default argument values**, **variable-length arguments** (`*args`, `**kwargs`), or by checking the number and type of arguments inside a single method.  \n",
        "This way, we can create a single method that performs different actions based on the arguments passed to it, achieving the effect of method overloading.\n"
      ],
      "metadata": {
        "id": "BhSMn2xWnSYx"
      }
    },
    {
      "cell_type": "markdown",
      "source": [
        "12.**What is Method Overriding in OOP?**\n",
        "- Method overriding is an important concept in **Object-Oriented Programming (OOP)** that allows a **subclass (child class)** to provide a specific implementation of a method that is already defined in its **parent class**. When a method in a child class has the same name, return type, and parameters as a method in its parent class, the child class’s version overrides or replaces the parent’s version when called through an instance of the child class.  \n",
        "This technique is very useful when a general method is already defined in a parent class, but its behavior needs to be customized or changed in the child class. It allows programmers to reuse code by inheriting from a parent class and then modifying certain behaviors without rewriting the entire class. Method overriding helps achieve **runtime polymorphism**, where the decision about which method to call is made at runtime based on the object type.\n"
      ],
      "metadata": {
        "id": "QhtmwW_OnjjZ"
      }
    },
    {
      "cell_type": "markdown",
      "source": [
        "13.**What is a Property Decorator in Python?**\n",
        "- A **property decorator** in Python is a special feature that allows us to control access to class attributes by turning a method into a property. Normally, attributes in a class can be accessed or modified directly, which might lead to incorrect or invalid data being assigned. To avoid this and provide controlled access, we use property decorators. It helps in implementing **getter**, **setter**, and **deleter** methods in a clean and readable way without changing the way we access the attribute.  \n",
        "The `@property` decorator is used to create a **getter method** for an attribute, which means you can access a method like a normal attribute without using parentheses. Similarly, `@<property_name>.setter` is used to set or update the value of a property, and `@<property_name>.deleter` can delete it if required.  \n",
        "This technique is very useful for **encapsulation** because it allows **data hiding** and lets programmers control how class attributes are accessed and modified while maintaining a simple and user-friendly interface.\n"
      ],
      "metadata": {
        "id": "IjAtdK8anqYA"
      }
    },
    {
      "cell_type": "markdown",
      "source": [
        "14.**Why is Polymorphism Important in OOP?**\n",
        "- **Polymorphism** is one of the four fundamental concepts of **Object-Oriented Programming (OOP)**, along with **inheritance**, **encapsulation**, and **abstraction**. The word polymorphism means *\"many forms,\"* and in programming, it refers to the ability of different classes to be treated as instances of the same parent class. More specifically, polymorphism allows objects of different classes to respond to the same method call in their own unique way.  \n",
        "This is important because it adds **flexibility** and **reusability** to a program. For example, you might have a parent class called `Animal` with a method called `sound()`, and multiple child classes like `Dog`, `Cat`, and `Cow`, each overriding the `sound()` method. Even though the method name is the same, each class will respond differently when the method is called. This allows a programmer to write code that works with objects of different types but uses the same interface, making the program easier to extend and manage.  \n",
        "Polymorphism is particularly useful in large projects where multiple objects might need to perform similar actions but in their own specific ways. It also supports **runtime method binding**, where the method to be executed is determined at runtime based on the object type. This helps in reducing code duplication and improving program scalability."
      ],
      "metadata": {
        "id": "2IA3RLpRn0en"
      }
    },
    {
      "cell_type": "markdown",
      "source": [
        "15.**What is an abstract class in Python**\n",
        "\n",
        "- An abstract class in Python is a class that cannot be instantiated directly, meaning you cannot create objects from it. It is mainly used as a blueprint for other classes. An abstract class typically contains one or more abstract methods — methods that are declared but do not have any implementation. The actual implementation of these methods is done in the subclasses that inherit from the abstract class.  \n",
        "In Python, abstract classes are defined using the `abc` module, which stands for Abstract Base Classes. To declare a class as abstract, it must inherit from `ABC` (a base class from the `abc` module). Methods inside it that are meant to be abstract are marked with the `@abstractmethod` decorator. This ensures that any class derived from the abstract class must implement all its abstract methods, otherwise, the subclass will also be considered abstract and cannot be instantiated.  \n",
        " A**bstract classes** are useful in  \n",
        " Abstract classes help to enforce a certain structure in the program. They are especially helpful when multiple classes should follow a common interface or share a common behavior, but each should implement that behavior in its own way. This improves consistency in large programs and makes them easier to manage and extend.\n"
      ],
      "metadata": {
        "id": "j7ugwslQn6q3"
      }
    },
    {
      "cell_type": "markdown",
      "source": [
        "\n",
        "16.**What are the advantages of OOP**\n",
        "\n",
        "- Object-Oriented Programming (OOP) is one of the most popular and widely used programming paradigms because it provides a structured and organized way to write and manage code. OOP focuses on using objects, which combine both data and functions, to design software applications. It offers several important advantages that make it suitable for both small and large-scale projects.  \n",
        "One of the biggest advantages of OOP is code reusability. Through the concept of inheritance, a new class can inherit properties and methods from an existing class, reducing the need to write repetitive code. This makes software development faster and more efficient.  \n",
        "Another important benefit is encapsulation, which protects an object’s internal state by restricting access to its private attributes and exposing only selected methods to interact with that data. This ensures that sensitive data is kept safe from accidental changes and maintains the integrity of an object.\n",
        "\n",
        " Polymorphism is also a powerful feature of OOP, allowing different classes to respond to the same function call in their unique way. This promotes code flexibility and simplifies method management when dealing with multiple types of objects that share a common interface.  \n",
        " Abstraction is another key advantage, as it hides complex implementation details and exposes only the essential features of an object, making programs easier to use and maintain.  \n",
        " Additionally, OOP helps in modeling real-world problems more naturally by representing real-life entities as objects in code. This improves program readability, clarity, and maintainability.  \n",
        " **In summary, the advantages of OOP include:**\n",
        " - Code reusability through inheritance\n",
        " - Data protection via encapsulation\n",
        " - Flexibility with polymorphism\n",
        " - Simplified program design using abstraction\n",
        " - Better organization for complex systems\n",
        " - Easier maintenance and scalability  \n",
        "\n",
        " These benefits make OOP a highly efficient and reliable approach for modern software development.\n"
      ],
      "metadata": {
        "id": "JEop2zdOpXKk"
      }
    },
    {
      "cell_type": "markdown",
      "source": [
        "17. **What is the difference between a class variable and an instance variable**\n",
        "\n",
        "- In Python’s Object-Oriented Programming (OOP) system, both class variables and instance variables are used to store data within a class, but they differ in how they are associated with the class and its objects, and in how their values are maintained.\n",
        "  \n",
        "  A class variable is a variable that is shared across all instances of a class. It is declared inside the class but outside any of its methods. This means that every object of the class can access the same copy of this variable. If the value of a class variable is changed using the class name, the change will be reflected across all instances of the class. Class variables are usually used to store values or data that should be the same for all objects, like a counter to keep track of how many objects have been created.\n",
        "  \n",
        "  An instance variable, on the other hand, is unique to each object created from the class. It is defined inside a method, typically within the `__init__()` constructor, and uses the `self` keyword to associate the variable with the current object. This means each object maintains its own separate copy of the instance variable, and changing its value in one object does not affect the value in another.\n"
      ],
      "metadata": {
        "id": "IWh3OfjTp3ub"
      }
    },
    {
      "cell_type": "markdown",
      "source": [
        "18. **What is multiple inheritance in Python?**\n",
        "\n",
        "- Multiple inheritance is a feature in Object-Oriented Programming (OOP) where a single class can inherit properties and behaviors (methods) from more than one parent class. In simple words, it means a child class can have multiple parent classes. This allows a child class to access and use the attributes and methods of all its parent classes, combining their functionalities into one.\n",
        "  \n",
        "  In Python, multiple inheritance is supported directly and can be implemented easily by listing multiple parent classes in the class definition. It is useful when a class needs to inherit characteristics from several sources. However, it can sometimes cause confusion if the same method or attribute exists in more than one parent class. In such situations, Python follows the Method Resolution Order (MRO) to decide which class’s method or attribute should be accessed first.\n"
      ],
      "metadata": {
        "id": "T9RfVCZvqLTg"
      }
    },
    {
      "cell_type": "markdown",
      "source": [
        "19. **Explain the purpose of __str__ and __repr__ methods in Python**\n",
        "\n",
        "- In Python, both __str__ and __repr__ are special or “dunder” methods (methods with double underscores before and after their names) used to define string representations of an object. They are particularly helpful for making objects more readable and understandable when printed or viewed in the interpreter.\n",
        "  \n",
        "  The __str__ method is called by the str() function and the built-in print() function to return a user-friendly, informal string representation of an object. It is meant to display the object in a way that is easy for end-users to read and understand.\n",
        "  \n",
        "  The __repr__ method, on the other hand, is called by the built-in repr() function or when an object is typed directly into the Python shell. It is intended to provide an official, detailed, and unambiguous string representation of the object, ideally one that could be used to recreate the same object if passed to eval().\n",
        "\n"
      ],
      "metadata": {
        "id": "UhmfSCWmshI1"
      }
    },
    {
      "cell_type": "markdown",
      "source": [
        "20. **What is the significance of the super() function in Python**\n",
        "- In Python, the super() function is a built-in feature used in Object-Oriented Programming (OOP) to call a method from a parent or superclass inside a child or subclass. It is most commonly used when a method in a subclass overrides a method with the same name in its parent class. By using super(), the subclass can still access and execute the original implementation from the parent class, in addition to its own.\n",
        "  \n",
        "  The primary significance of super() is that it helps in method overriding and managing inheritance hierarchies efficiently, especially in situations involving multiple inheritance. It ensures that the method resolution follows the Method Resolution Order (MRO), which is the order in which Python searches for methods in the inheritance chain.\n",
        "  \n",
        "  This function is helpful because it reduces code duplication and ensures that common functionality defined in a parent class is properly executed, even when extending or customizing it in a child class. It promotes better code organization and readability.\n",
        "\n"
      ],
      "metadata": {
        "id": "3PK9-EkWs_cD"
      }
    },
    {
      "cell_type": "markdown",
      "source": [
        "21. **What is the significance of the __del__ method in Python**\n",
        "- In Python, the __del__ method is a special method, also known as a destructor, which is automatically called when an object is about to be destroyed or deleted from memory. The main purpose of this method is to perform clean-up actions such as releasing external resources, closing open files, disconnecting from networks, or freeing up memory occupied by the object before the program completely removes the object.\n",
        "  \n",
        "  The __del__ method is typically used in situations where an object holds resources other than memory — like file handles or network connections — which need to be properly closed or released once the object is no longer needed. By defining a __del__ method inside a class, a programmer can ensure that these tasks are automatically handled when the object is deleted.\n",
        "\n"
      ],
      "metadata": {
        "id": "YbmlBZ0WtRk-"
      }
    },
    {
      "cell_type": "markdown",
      "source": [
        "22. **What is the difference between @staticmethod and @classmethod in Python**\n",
        "- In Python’s Object-Oriented Programming (OOP) model, both @staticmethod and @classmethod are types of special methods that belong to a class but differ in how they interact with class and instance data. While they both offer ways to define methods that are logically connected to the class, they serve different purposes and behave differently.\n",
        "  \n",
        "  A **static method** is defined using the @staticmethod decorator. It does not take either self (the instance) or cls (the class) as its first argument. This means it cannot access or modify class-level or instance-level attributes and methods. Static methods behave like normal functions but are placed within the class’s namespace for organizational purposes. They are typically used for utility functions or operations related to the class but independent of class and instance attributes.\n",
        "  \n",
        "  A **class method**, on the other hand, is declared with the @classmethod decorator and takes cls as its first parameter. This allows it to access and modify class-level attributes that are shared across all instances of the class. Class methods can be called using both the class name and its instances, and they are often used for factory methods — methods that create and return class objects in different ways.\n",
        "\n"
      ],
      "metadata": {
        "id": "epkTWlaVtdp7"
      }
    },
    {
      "cell_type": "markdown",
      "source": [
        "23. **How does polymorphism work in Python with inheritance**\n",
        "- **Polymorphism** is a key principle of Object-Oriented Programming (OOP) that means \"many forms.\" In simple terms, it allows different classes to have methods with the same name, and the appropriate method is called based on the type of the object at runtime. In Python, polymorphism works very smoothly with the concept of inheritance, where a child class inherits properties and methods from a parent class.\n",
        "  \n",
        "  When a parent class defines a method, and multiple child classes inherit from it while providing their own specific implementations of the same method, this is called method overriding. During program execution, when the method is called through an object, Python decides which version of the method to invoke based on the object's class. This behavior is known as runtime polymorphism, and it allows writing flexible, reusable, and extendable code.\n",
        "\n"
      ],
      "metadata": {
        "id": "PcxSz9o_toeG"
      }
    },
    {
      "cell_type": "markdown",
      "source": [
        "24. **What is method chaining in Python OOP**\n",
        "- **Method chaining** is a useful and elegant programming technique in Python’s Object-Oriented Programming (OOP) where multiple methods are called sequentially on the same object in a single line of code. This is possible when each method returns the object itself (usually by returning self at the end of the method). By doing this, the next method call can immediately follow the previous one, creating a continuous chain of method calls.\n",
        "  \n",
        "  Method chaining improves the readability and conciseness of the code. It’s especially useful when performing a sequence of related operations on an object, where writing each method call separately on different lines might make the code longer and harder to follow. With method chaining, these operations can be grouped logically into a single line, making the code cleaner and easier to understand.\n",
        "\n",
        "\n"
      ],
      "metadata": {
        "id": "OL-XTjnUtwPp"
      }
    },
    {
      "cell_type": "markdown",
      "source": [
        "25. **What is the purpose of the __call__ method in Python**\n",
        "- In Python, the __call__ method is a special or magic method that allows an instance of a class to be called like a function. This means that if a class defines the __call__ method, then its objects can be called using parentheses (), just like regular functions. When the object is called, Python automatically executes the __call__ method defined within the class.\n",
        "  \n",
        "  The main purpose of the __call__ method is to make instances of a class behave like functions. This is particularly useful in scenarios like function wrappers, decorators, or when designing classes where objects should perform an action when called directly. It helps in writing more dynamic, flexible, and clean code structures.\n",
        "  \n",
        "  Example:  \n",
        "       class Greet:  \n",
        "       def __call__(self, name):  \n",
        "       print(f\"Hello, {name}!\")  \n",
        "  \n",
        "       greeting = Greet()  \n",
        "       greeting(\"Deepesh\")\n",
        "  \n",
        "  Output:  \n",
        "      Hello, Deepesh!\n",
        "    \n",
        "    In this example, even though greeting is an object of the Greet class, it behaves like a function because the class has a __call__ method. When we use greeting(\"Deepesh\"), it triggers the __call__ method.\n",
        "  \n",
        "  Benefits of __call__:  \n",
        "  - Makes objects callable like functions.\n",
        "  - Useful in decorators, event handlers, or factory pattern designs.\n",
        "  - Simplifies code by combining data and function behavior inside one class.\n",
        "  - Enables writing highly flexible and reusable program components.\n",
        "  \n",
        "  In short, the __call__ method enhances the flexibility of classes in Python and is a neat feature for advanced object behavior in Object-Oriented Programming."
      ],
      "metadata": {
        "id": "1l7Uj6oVuHL9"
      }
    },
    {
      "cell_type": "markdown",
      "source": [
        "## Practical Assignment"
      ],
      "metadata": {
        "id": "bwaazqijwcx5"
      }
    },
    {
      "cell_type": "markdown",
      "source": [
        "1. **Create a parent class Animal with a method speak() that prints a generic message. Create a child class Dog that overrides the speak() method to print \"Bark!\".**\n"
      ],
      "metadata": {
        "id": "jzEUvnZmw_9j"
      }
    },
    {
      "cell_type": "code",
      "source": [
        "\n",
        "class Animal:\n",
        "    def speak(self):\n",
        "        print(\"This is a generic animal sound.\")\n",
        "\n",
        "\n",
        "class Dog(Animal):\n",
        "    def speak(self):\n",
        "        print(\"Bark!\")\n",
        "\n",
        "\n",
        "animal_name = input(\"Enter animal name: \").strip().capitalize()\n",
        "\n",
        "if animal_name == \"Dog\":\n",
        "    animal = Dog()\n",
        "    animal.speak()\n",
        "else:\n",
        "    print(f\"You have selected {animal_name}.\")\n"
      ],
      "metadata": {
        "collapsed": true,
        "id": "f5Y17eAOxwX2"
      },
      "execution_count": null,
      "outputs": []
    },
    {
      "cell_type": "markdown",
      "source": [
        "2. **Write a program to create an abstract class Shape with a method area(). Derive classes Circle and Rectangle from it and implement the area() method in both.**"
      ],
      "metadata": {
        "id": "v1ba7ZJSysep"
      }
    },
    {
      "cell_type": "code",
      "source": [
        "from abc import ABC, abstractmethod\n",
        "import math\n",
        "\n",
        "\n",
        "class Shape(ABC):\n",
        "    @abstractmethod\n",
        "    def area(self):\n",
        "        pass\n",
        "\n",
        "class Circle(Shape):\n",
        "    def __init__(self, radius):\n",
        "        self.radius = radius\n",
        "\n",
        "    def area(self):\n",
        "        return math.pi * self.radius ** 2\n",
        "\n",
        "class Rectangle(Shape):\n",
        "    def __init__(self, length, width):\n",
        "        self.length = length\n",
        "        self.width = width\n",
        "\n",
        "    def area(self):\n",
        "        return self.length * self.width\n",
        "\n",
        "\n",
        "def get_positive_float(prompt):\n",
        "    while True:\n",
        "        try:\n",
        "            value = float(input(prompt))\n",
        "            if value > 0:\n",
        "                return value\n",
        "            else:\n",
        "                print(\" Value must be a positive number.\")\n",
        "        except ValueError:\n",
        "            print(\" Invalid input! Please enter a numerical value.\")\n",
        "\n",
        "\n",
        "print(\"Choose a shape to calculate area:\")\n",
        "print(\"1. Circle\")\n",
        "print(\"2. Rectangle\")\n",
        "\n",
        "choice = input(\"Enter your choice (1 or 2): \")\n",
        "\n",
        "if choice == '1':\n",
        "    radius = get_positive_float(\"Enter the radius of the circle: \")\n",
        "    circle = Circle(radius)\n",
        "    print(f\" Area of Circle is: {circle.area():.2f} sq units\")\n",
        "\n",
        "elif choice == '2':\n",
        "    length = get_positive_float(\"Enter the length of the rectangle: \")\n",
        "    width = get_positive_float(\"Enter the width of the rectangle: \")\n",
        "    rectangle = Rectangle(length, width)\n",
        "    print(f\" Area of Rectangle is: {rectangle.area():.2f} sq units\")\n",
        "\n",
        "else:\n",
        "    print(\" Invalid choice! Please enter 1 or 2.\")\n"
      ],
      "metadata": {
        "collapsed": true,
        "id": "tueNrfbszWau"
      },
      "execution_count": null,
      "outputs": []
    },
    {
      "cell_type": "markdown",
      "source": [
        "3. Implement a multi-level inheritance scenario where a class Vehicle has an attribute type. Derive a class Car and further derive a class ElectricCar that adds a battery attribute.\n"
      ],
      "metadata": {
        "id": "BCEwtL_y0dzJ"
      }
    },
    {
      "cell_type": "code",
      "source": [
        "\n",
        "class Vehicle:\n",
        "    def __init__(self, vehicle_type):\n",
        "        self.vehicle_type = vehicle_type\n",
        "\n",
        "    def show_type(self):\n",
        "        print(f\"Vehicle Type: {self.vehicle_type}\")\n",
        "\n",
        "\n",
        "class TwoWheeler(Vehicle):\n",
        "    def __init__(self, vehicle_type, category):\n",
        "        super().__init__(vehicle_type)\n",
        "        self.category = category\n",
        "\n",
        "    def show_category(self):\n",
        "        print(f\"Two Wheeler Category: {self.category}\")\n",
        "\n",
        "# Bike class\n",
        "class Bike(TwoWheeler):\n",
        "    def __init__(self, vehicle_type, category, fuel_type):\n",
        "        super().__init__(vehicle_type, category)\n",
        "        self.fuel_type = fuel_type\n",
        "\n",
        "    def show_fuel(self):\n",
        "        print(f\"Bike Fuel Type: {self.fuel_type}\")\n",
        "        if self.fuel_type.lower() == \"electric\":\n",
        "            print(\"Battery Capacity: 18 kWh\")\n",
        "\n",
        "# Mopade class\n",
        "class Mopade(TwoWheeler):\n",
        "    def __init__(self, vehicle_type, category, fuel_type):\n",
        "        super().__init__(vehicle_type, category)\n",
        "        self.fuel_type = fuel_type\n",
        "\n",
        "    def show_fuel(self):\n",
        "        print(f\"Mopade Fuel Type: {self.fuel_type}\")\n",
        "        if self.fuel_type.lower() == \"electric\":\n",
        "            print(\"Battery Capacity: 18 kWh\")\n",
        "\n",
        "# Four Wheeler class\n",
        "class FourWheeler(Vehicle):\n",
        "    company_batteries = {\n",
        "        \"Tata\": \"40.5 kWh\",\n",
        "        \"MG\": \"50.3 kWh\",\n",
        "        \"Hyundai\": \"39.2 kWh\",\n",
        "        \"Mahindra\": \"39.4 kWh\",\n",
        "        \"BYD\": \"60.48 kWh\",\n",
        "        \"Kia\": \"77.4 kWh\",\n",
        "        \"Mercedes\": \"66.5 kWh\",\n",
        "        \"BMW\": \"83.9 kWh\",\n",
        "        \"Audi\": \"114 kWh\"\n",
        "    }\n",
        "\n",
        "    def __init__(self, vehicle_type, car_company):\n",
        "        super().__init__(vehicle_type)\n",
        "        self.car_company = car_company\n",
        "\n",
        "    def show_company(self):\n",
        "        print(f\"Car Company: {self.car_company}\")\n",
        "\n",
        "        if self.car_company in FourWheeler.company_batteries:\n",
        "            print(f\"Battery Capacity: {FourWheeler.company_batteries[self.car_company]}\")\n",
        "        else:\n",
        "            print(\"Battery capacity data not available.\")\n",
        "\n",
        "\n",
        "print(\"Select Vehicle Type:\")\n",
        "print(\"1. Two Wheeler\")\n",
        "print(\"2. Four Wheeler\")\n",
        "print(\"3. Large Vehicle\")\n",
        "\n",
        "choice = input(\"Enter your choice (1/2/3): \")\n",
        "\n",
        "if choice == '1':\n",
        "    print(\"Select Two Wheeler Category:\")\n",
        "    print(\"a. Bike\")\n",
        "    print(\"b. Mopade\")\n",
        "    category_choice = input(\"Enter your choice (a/b): \")\n",
        "\n",
        "    if category_choice.lower() == 'a':\n",
        "        fuel = input(\"Enter fuel type for Bike (Electric/Petrol): \")\n",
        "        bike = Bike(\"Two Wheeler\", \"Bike\", fuel)\n",
        "        bike.show_type()\n",
        "        bike.show_category()\n",
        "        bike.show_fuel()\n",
        "\n",
        "    elif category_choice.lower() == 'b':\n",
        "        fuel = input(\"Enter fuel type for Mopade (Electric/Petrol): \")\n",
        "        mopade = Mopade(\"Two Wheeler\", \"Mopade\", fuel)\n",
        "        mopade.show_type()\n",
        "        mopade.show_category()\n",
        "        mopade.show_fuel()\n",
        "\n",
        "    else:\n",
        "        print(\"Invalid Two Wheeler choice!\")\n",
        "\n",
        "elif choice == '2':\n",
        "    print(\"\\nAvailable Car Companies:\")\n",
        "    for company in FourWheeler.company_batteries:\n",
        "        print(\"-\", company)\n",
        "\n",
        "    company = input(\"Enter Car Company from the above list: \")\n",
        "\n",
        "    car = FourWheeler(\"Four Wheeler\", company)\n",
        "    car.show_type()\n",
        "    car.show_company()\n",
        "\n",
        "elif choice == '3':\n",
        "    print(\"Large Vehicle module: Work In Progress 🚧\")\n",
        "\n",
        "else:\n",
        "    print(\"Invalid choice! Please enter 1, 2, or 3.\")"
      ],
      "metadata": {
        "colab": {
          "base_uri": "https://localhost:8080/"
        },
        "collapsed": true,
        "id": "6aArsGM-0dVM",
        "outputId": "0f11337f-7ae9-4735-b2c5-4b3f8e197526"
      },
      "execution_count": 7,
      "outputs": [
        {
          "output_type": "stream",
          "name": "stdout",
          "text": [
            "Vehicle Type: Four-Wheeler\n",
            "Car Brand: Tesla\n",
            "Battery Capacity: 75 kWh\n"
          ]
        }
      ]
    },
    {
      "cell_type": "markdown",
      "source": [
        "4. **Demonstrate polymorphism by creating a base class Bird with a method fly(). Create two derived classes Sparrow and Penguin that override the fly() method.**"
      ],
      "metadata": {
        "id": "CsARiLKt8dkO"
      }
    },
    {
      "cell_type": "code",
      "source": [
        "\n",
        "class Bird:\n",
        "    def fly(self):\n",
        "        print(\"Some birds can fly.\")\n",
        "\n",
        "class Sparrow(Bird):\n",
        "    def fly(self):\n",
        "        print(\"Sparrow can fly high in the sky.\")\n",
        "\n",
        "\n",
        "class Penguin(Bird):\n",
        "    def fly(self):\n",
        "        print(\"Penguins cannot fly, they swim.\")\n",
        "\n",
        "\n",
        "def bird_flight(bird):\n",
        "    bird.fly()\n",
        "\n",
        "\n",
        "sparrow = Sparrow()\n",
        "penguin = Penguin()\n",
        "\n",
        "\n",
        "print(\"Flight behavior of Sparrow:\")\n",
        "bird_flight(sparrow)\n",
        "\n",
        "print(\"\\nFlight behavior of Penguin:\")\n",
        "bird_flight(penguin)\n"
      ],
      "metadata": {
        "colab": {
          "base_uri": "https://localhost:8080/"
        },
        "collapsed": true,
        "id": "SZOyXYf88jop",
        "outputId": "895dce48-7dbc-4581-86a4-6c48b99b4ccb"
      },
      "execution_count": 14,
      "outputs": [
        {
          "output_type": "stream",
          "name": "stdout",
          "text": [
            "Flight behavior of Sparrow:\n",
            "Sparrow can fly high in the sky.\n",
            "\n",
            "Flight behavior of Penguin:\n",
            "Penguins cannot fly, they swim.\n"
          ]
        }
      ]
    },
    {
      "cell_type": "markdown",
      "source": [
        "5. **Write a program to demonstrate encapsulation by creating a class BankAccount with private attributes balance and methods to deposit, withdraw, and check balance.**"
      ],
      "metadata": {
        "id": "Fi7XL5jK9bBv"
      }
    },
    {
      "cell_type": "code",
      "source": [
        "\n",
        "class BankAccount:\n",
        "    def __init__(self, initial_balance=10000):\n",
        "\n",
        "        self.__balance = initial_balance\n",
        "\n",
        "\n",
        "    def deposit(self, amount):\n",
        "        if amount > 0:\n",
        "            self.__balance += amount\n",
        "            print(f\"₹{amount} deposited successfully.\")\n",
        "        else:\n",
        "            print(\"Invalid deposit amount.\")\n",
        "\n",
        "\n",
        "    def withdraw(self, amount):\n",
        "        if amount > 0:\n",
        "            if self.__balance >= amount:\n",
        "                self.__balance -= amount\n",
        "                print(f\"₹{amount} withdrawn successfully.\")\n",
        "            else:\n",
        "                print(\"Insufficient balance.\")\n",
        "        else:\n",
        "            print(\"Invalid withdrawal amount.\")\n",
        "\n",
        "\n",
        "    def check_balance(self):\n",
        "        print(f\"Current Balance: ₹{self.__balance}\")\n",
        "\n",
        "\n",
        "account = BankAccount()\n",
        "\n",
        "\n",
        "while True:\n",
        "    print(\"\\n--- Welcome to Mahakali Bank ---\")\n",
        "    print(\"1. Check Balance\")\n",
        "    print(\"2. Deposit\")\n",
        "    print(\"3. Withdraw\")\n",
        "    print(\"4. Exit\")\n",
        "\n",
        "    choice = input(\"Enter your choice (1/2/3/4): \")\n",
        "\n",
        "    if choice == '1':\n",
        "        account.check_balance()\n",
        "\n",
        "    elif choice == '2':\n",
        "        amount = float(input(\"Enter amount to deposit: ₹\"))\n",
        "        account.deposit(amount)\n",
        "\n",
        "    elif choice == '3':\n",
        "        amount = float(input(\"Enter amount to withdraw: ₹\"))\n",
        "        account.withdraw(amount)\n",
        "\n",
        "    elif choice == '4':\n",
        "        print(\"Thank you for banking with us!\")\n",
        "        break\n",
        "\n",
        "    else:\n",
        "        print(\"Invalid choice! Please enter 1, 2, 3, or 4.\")\n"
      ],
      "metadata": {
        "colab": {
          "base_uri": "https://localhost:8080/"
        },
        "collapsed": true,
        "id": "AOFw3n1Y9aoe",
        "outputId": "28330dcd-0d3d-4f2c-a889-dc6526204205"
      },
      "execution_count": 16,
      "outputs": [
        {
          "output_type": "stream",
          "name": "stdout",
          "text": [
            "\n",
            "--- Welcome to Mahakali Bank ---\n",
            "1. Check Balance\n",
            "2. Deposit\n",
            "3. Withdraw\n",
            "4. Exit\n",
            "Enter your choice (1/2/3/4): 1\n",
            "Current Balance: ₹10000\n",
            "\n",
            "--- Welcome to Mahakali Bank ---\n",
            "1. Check Balance\n",
            "2. Deposit\n",
            "3. Withdraw\n",
            "4. Exit\n",
            "Enter your choice (1/2/3/4): 2\n",
            "Enter amount to deposit: ₹20000\n",
            "₹20000.0 deposited successfully.\n",
            "\n",
            "--- Welcome to Mahakali Bank ---\n",
            "1. Check Balance\n",
            "2. Deposit\n",
            "3. Withdraw\n",
            "4. Exit\n",
            "Enter your choice (1/2/3/4): 3\n",
            "Enter amount to withdraw: ₹30000\n",
            "₹30000.0 withdrawn successfully.\n",
            "\n",
            "--- Welcome to Mahakali Bank ---\n",
            "1. Check Balance\n",
            "2. Deposit\n",
            "3. Withdraw\n",
            "4. Exit\n",
            "Enter your choice (1/2/3/4): 1\n",
            "Current Balance: ₹0.0\n",
            "\n",
            "--- Welcome to Mahakali Bank ---\n",
            "1. Check Balance\n",
            "2. Deposit\n",
            "3. Withdraw\n",
            "4. Exit\n",
            "Enter your choice (1/2/3/4): 3\n",
            "Enter amount to withdraw: ₹1000\n",
            "Insufficient balance.\n",
            "\n",
            "--- Welcome to Mahakali Bank ---\n",
            "1. Check Balance\n",
            "2. Deposit\n",
            "3. Withdraw\n",
            "4. Exit\n",
            "Enter your choice (1/2/3/4): 4\n",
            "Thank you for banking with us!\n"
          ]
        }
      ]
    },
    {
      "cell_type": "markdown",
      "source": [
        "6. **Demonstrate runtime polymorphism using a method play() in a base class Instrument. Derive classes Guitar and Piano that implement their own version of play().**"
      ],
      "metadata": {
        "id": "-9j5JwG_-mUh"
      }
    },
    {
      "cell_type": "code",
      "source": [
        "\n",
        "class Instrument:\n",
        "    def play(self):\n",
        "        print(\"Playing an instrument.\")\n",
        "\n",
        "\n",
        "class Guitar(Instrument):\n",
        "    def play(self):\n",
        "        print(\"Strumming the guitar.\")\n",
        "\n",
        "\n",
        "class Piano(Instrument):\n",
        "    def play(self):\n",
        "        print(\"Playing the piano.\")\n",
        "\n",
        "\n",
        "def perform_music(instrument):\n",
        "    instrument.play()\n",
        "\n",
        "\n",
        "guitar = Guitar()\n",
        "piano = Piano()\n",
        "\n",
        "\n",
        "print(\"Performance 1:\")\n",
        "perform_music(guitar)\n",
        "\n",
        "print(\"\\nPerformance 2:\")\n",
        "perform_music(piano)\n",
        "\n",
        "print(\"\\n--- Full Show ---\")\n",
        "instruments = [guitar, piano]\n",
        "\n",
        "for inst in instruments:\n",
        "    perform_music(inst)\n"
      ],
      "metadata": {
        "colab": {
          "base_uri": "https://localhost:8080/"
        },
        "collapsed": true,
        "id": "89698p4S9Xxn",
        "outputId": "e125cfd4-5e90-4ade-9b12-6b08cd0b7f8f"
      },
      "execution_count": 17,
      "outputs": [
        {
          "output_type": "stream",
          "name": "stdout",
          "text": [
            "Performance 1:\n",
            "Strumming the guitar.\n",
            "\n",
            "Performance 2:\n",
            "Playing the piano.\n",
            "\n",
            "--- Full Show ---\n",
            "Strumming the guitar.\n",
            "Playing the piano.\n"
          ]
        }
      ]
    },
    {
      "cell_type": "markdown",
      "source": [
        "7. **Create a class MathOperations with a class method add_numbers() to add two numbers and a static method subtract_numbers() to subtract two numbers.**"
      ],
      "metadata": {
        "id": "E2P9Otqs_Wd5"
      }
    },
    {
      "cell_type": "code",
      "source": [
        "class MathOperations:\n",
        "\n",
        "    @classmethod\n",
        "    def add_numbers(cls, a, b):\n",
        "        return a + b\n",
        "\n",
        "\n",
        "    @staticmethod\n",
        "    def subtract_numbers(a, b):\n",
        "        return a - b\n",
        "\n",
        "\n",
        "while True:\n",
        "    print(\"\\n--- Math Operations ---\")\n",
        "    print(\"1. Add Numbers\")\n",
        "    print(\"2. Subtract Numbers\")\n",
        "    print(\"3. Exit\")\n",
        "\n",
        "    choice = input(\"Enter your choice (1/2/3): \")\n",
        "\n",
        "    if choice == '1':\n",
        "        a = float(input(\"Enter first number: \"))\n",
        "        b = float(input(\"Enter second number: \"))\n",
        "        result = MathOperations.add_numbers(a, b)\n",
        "        print(f\"Addition Result: {result}\")\n",
        "\n",
        "    elif choice == '2':\n",
        "        a = float(input(\"Enter first number: \"))\n",
        "        b = float(input(\"Enter second number: \"))\n",
        "        result = MathOperations.subtract_numbers(a, b)\n",
        "        print(f\"Subtraction Result: {result}\")\n",
        "\n",
        "    elif choice == '3':\n",
        "        print(\"Thank you! Exiting program.\")\n",
        "        break\n",
        "\n",
        "    else:\n",
        "        print(\"Invalid choice! Please enter 1, 2, or 3.\")\n"
      ],
      "metadata": {
        "colab": {
          "base_uri": "https://localhost:8080/"
        },
        "collapsed": true,
        "id": "yqW6DaLw_eDv",
        "outputId": "bc2d4af5-54c1-4c52-d8e6-d8137c4212a6"
      },
      "execution_count": 18,
      "outputs": [
        {
          "output_type": "stream",
          "name": "stdout",
          "text": [
            "\n",
            "--- Math Operations ---\n",
            "1. Add Numbers\n",
            "2. Subtract Numbers\n",
            "3. Exit\n",
            "Enter your choice (1/2/3): 2\n",
            "Enter first number: 5\n",
            "Enter second number: 56\n",
            "Subtraction Result: -51.0\n",
            "\n",
            "--- Math Operations ---\n",
            "1. Add Numbers\n",
            "2. Subtract Numbers\n",
            "3. Exit\n",
            "Enter your choice (1/2/3): 1\n",
            "Enter first number: 5\n",
            "Enter second number: 55\n",
            "Addition Result: 60.0\n",
            "\n",
            "--- Math Operations ---\n",
            "1. Add Numbers\n",
            "2. Subtract Numbers\n",
            "3. Exit\n",
            "Enter your choice (1/2/3): 3\n",
            "Thank you! Exiting program.\n"
          ]
        }
      ]
    },
    {
      "cell_type": "markdown",
      "source": [
        "8. **Implement a class Person with a class method to count the total number of persons created.**"
      ],
      "metadata": {
        "id": "tagPCS-cAIuv"
      }
    },
    {
      "cell_type": "code",
      "source": [
        "class Person:\n",
        "\n",
        "    count = 0\n",
        "\n",
        "    def __init__(self, name):\n",
        "        self.name = name\n",
        "        Person.count += 1\n",
        "\n",
        "\n",
        "    @classmethod\n",
        "    def total_persons(cls):\n",
        "        print(f\"\\nTotal persons created so far: {cls.count}\")\n",
        "\n",
        "\n",
        "while True:\n",
        "    print(\"\\n--- Person Management ---\")\n",
        "    print(\"1. Add New Person\")\n",
        "    print(\"2. Show Total Persons\")\n",
        "    print(\"3. Exit Program\")\n",
        "\n",
        "    choice = input(\"Enter your choice (1/2/3): \")\n",
        "\n",
        "    if choice == '1':\n",
        "        name = input(\"Enter person's name: \")\n",
        "        person = Person(name)\n",
        "        print(f\"{name} added successfully!\")\n",
        "\n",
        "    elif choice == '2':\n",
        "        Person.total_persons()\n",
        "\n",
        "    elif choice == '3':\n",
        "        print(\"\\nProgram Ended. Thank you!\")\n",
        "        break\n",
        "\n",
        "    else:\n",
        "        print(\"Invalid choice! Please enter 1, 2, or 3.\")\n"
      ],
      "metadata": {
        "colab": {
          "base_uri": "https://localhost:8080/"
        },
        "collapsed": true,
        "id": "iY237e-rFaGB",
        "outputId": "392fb02f-37e4-41a6-a14b-888eb2969f21"
      },
      "execution_count": 31,
      "outputs": [
        {
          "output_type": "stream",
          "name": "stdout",
          "text": [
            "\n",
            "--- Person Management ---\n",
            "1. Add New Person\n",
            "2. Show Total Persons\n",
            "3. Exit Program\n",
            "Enter your choice (1/2/3): 2\n",
            "\n",
            "Total persons created so far: 0\n",
            "\n",
            "--- Person Management ---\n",
            "1. Add New Person\n",
            "2. Show Total Persons\n",
            "3. Exit Program\n",
            "Enter your choice (1/2/3): 1\n",
            "Enter person's name: shiv\n",
            "shiv added successfully!\n",
            "\n",
            "--- Person Management ---\n",
            "1. Add New Person\n",
            "2. Show Total Persons\n",
            "3. Exit Program\n",
            "Enter your choice (1/2/3): 1\n",
            "Enter person's name: deepesh\n",
            "deepesh added successfully!\n",
            "\n",
            "--- Person Management ---\n",
            "1. Add New Person\n",
            "2. Show Total Persons\n",
            "3. Exit Program\n",
            "Enter your choice (1/2/3): 2\n",
            "\n",
            "Total persons created so far: 2\n",
            "\n",
            "--- Person Management ---\n",
            "1. Add New Person\n",
            "2. Show Total Persons\n",
            "3. Exit Program\n",
            "Enter your choice (1/2/3): 3\n",
            "\n",
            "Program Ended. Thank you!\n"
          ]
        }
      ]
    },
    {
      "cell_type": "markdown",
      "source": [
        "9. **Write a class Fraction with attributes numerator and denominator. Override the __str__ method to display the fraction as \"numerator/denominator\".**"
      ],
      "metadata": {
        "id": "2VN2FatnBcZH"
      }
    },
    {
      "cell_type": "code",
      "source": [
        "class Fraction:\n",
        "    def __init__(self, numerator, denominator):\n",
        "        self.numerator = numerator\n",
        "        self.denominator = denominator\n",
        "\n",
        "\n",
        "    def __str__(self):\n",
        "        return f\"{self.numerator}/{self.denominator}\"\n",
        "\n",
        "\n",
        "numerator = int(input(\"Enter the numerator: \"))\n",
        "denominator = int(input(\"Enter the denominator: \"))\n",
        "\n",
        "\n",
        "fraction = Fraction(numerator, denominator)\n",
        "\n",
        "\n",
        "print(\"Your fraction is:\", fraction)\n"
      ],
      "metadata": {
        "colab": {
          "base_uri": "https://localhost:8080/"
        },
        "collapsed": true,
        "id": "cXEvSIuH_0t8",
        "outputId": "84bd5a75-3e29-4e6a-e7a6-017b362074b4"
      },
      "execution_count": 22,
      "outputs": [
        {
          "output_type": "stream",
          "name": "stdout",
          "text": [
            "Enter the numerator: 5\n",
            "Enter the denominator: 5\n",
            "Your fraction is: 5/5\n"
          ]
        }
      ]
    },
    {
      "cell_type": "markdown",
      "source": [
        "10. **Demonstrate operator overloading by creating a class Vector and overriding the add method to add two vectors.**"
      ],
      "metadata": {
        "id": "TObpYArKCFPZ"
      }
    },
    {
      "cell_type": "code",
      "source": [
        "class Vector:\n",
        "    def __init__(self, x, y):\n",
        "        self.x = x\n",
        "        self.y = y\n",
        "\n",
        "\n",
        "    def __add__(self, other):\n",
        "        new_x = self.x + other.x\n",
        "        new_y = self.y + other.y\n",
        "        return Vector(new_x, new_y)\n",
        "\n",
        "\n",
        "    def __str__(self):\n",
        "        return f\"({self.x}, {self.y})\"\n",
        "\n",
        "\n",
        "x1 = int(input(\"Enter x component of Vector 1: \"))\n",
        "y1 = int(input(\"Enter y component of Vector 1: \"))\n",
        "v1 = Vector(x1, y1)\n",
        "\n",
        "\n",
        "x2 = int(input(\"Enter x component of Vector 2: \"))\n",
        "y2 = int(input(\"Enter y component of Vector 2: \"))\n",
        "v2 = Vector(x2, y2)\n",
        "\n",
        "\n",
        "v3 = v1 + v2\n",
        "\n",
        "\n",
        "print(\"Vector 1:\", v1)\n",
        "print(\"Vector 2:\", v2)\n",
        "print(\"Sum of both vectors:\", v3)\n"
      ],
      "metadata": {
        "colab": {
          "base_uri": "https://localhost:8080/"
        },
        "collapsed": true,
        "id": "FtI6TJYPCMLU",
        "outputId": "6dc2d123-d612-4665-948b-d0a25c86c989"
      },
      "execution_count": 23,
      "outputs": [
        {
          "output_type": "stream",
          "name": "stdout",
          "text": [
            "Enter x component of Vector 1: 5\n",
            "Enter y component of Vector 1: 6\n",
            "Enter x component of Vector 2: 2\n",
            "Enter y component of Vector 2: 3\n",
            "Vector 1: (5, 6)\n",
            "Vector 2: (2, 3)\n",
            "Sum of both vectors: (7, 9)\n"
          ]
        }
      ]
    },
    {
      "cell_type": "markdown",
      "source": [
        "11. **Create a class Person with attributes name and age. Add a method greet() that prints \"Hello, my name is {name} and I am {age} years old.\"**"
      ],
      "metadata": {
        "id": "GocOKRbaCoON"
      }
    },
    {
      "cell_type": "code",
      "source": [
        "class Person:\n",
        "    def __init__(self, name, age):\n",
        "        self.name = name\n",
        "        self.age = age\n",
        "\n",
        "\n",
        "    def greet(self):\n",
        "        print(f\"Hello, my name is {self.name} and I am {self.age} years old.\")\n",
        "\n",
        "\n",
        "name = input(\"Enter your name: \")\n",
        "age = int(input(\"Enter your age: \"))\n",
        "\n",
        "\n",
        "person = Person(name, age)\n",
        "\n",
        "\n",
        "person.greet()\n"
      ],
      "metadata": {
        "colab": {
          "base_uri": "https://localhost:8080/"
        },
        "collapsed": true,
        "id": "J1xh1FmSCr3a",
        "outputId": "e71d62d3-6699-4239-b2df-e8fef9831dea"
      },
      "execution_count": 24,
      "outputs": [
        {
          "output_type": "stream",
          "name": "stdout",
          "text": [
            "Enter your name: Deepesh\n",
            "Enter your age: 22\n",
            "Hello, my name is Deepesh and I am 22 years old.\n"
          ]
        }
      ]
    },
    {
      "cell_type": "markdown",
      "source": [
        "12. **Implement a class Student with attributes name and grades. Create a method average_grade() to compute the average of the grades.**"
      ],
      "metadata": {
        "id": "M5qPEEgjC1cb"
      }
    },
    {
      "cell_type": "code",
      "source": [
        "class Student:\n",
        "    def __init__(self, name, grades):\n",
        "        self.name = name\n",
        "        self.grades = grades\n",
        "\n",
        "    def percentage(self):\n",
        "        if len(self.grades) == 0:\n",
        "            return 0\n",
        "        total_marks = sum(self.grades)\n",
        "        percentage = (total_marks / (len(self.grades) * 100)) * 100\n",
        "        return percentage\n",
        "\n",
        "\n",
        "name = input(\"Enter student's name: \")\n",
        "\n",
        "while True:\n",
        "    try:\n",
        "        num_subjects = int(input(\"Enter number of subjects: \"))\n",
        "        if num_subjects <= 0:\n",
        "            print(\"Number of subjects must be greater than 0.\")\n",
        "        else:\n",
        "            break\n",
        "    except ValueError:\n",
        "        print(\"Wrong entry! Please enter a valid numerical value for number of subjects.\")\n",
        "\n",
        "grades = []\n",
        "\n",
        "\n",
        "for i in range(num_subjects):\n",
        "    while True:\n",
        "        try:\n",
        "            marks = float(input(f\"Enter marks for subject {i+1} (out of 100): \"))\n",
        "            if 0 <= marks <= 100:\n",
        "                grades.append(marks)\n",
        "                break\n",
        "            else:\n",
        "                print(\"Wrong entry! Marks should be between 0 and 100.\")\n",
        "        except ValueError:\n",
        "            print(\"Wrong entry! Please enter a numerical value.\")\n",
        "\n",
        "\n",
        "student = Student(name, grades)\n",
        "\n",
        "\n",
        "print(f\"\\n{name}'s Percentage: {student.percentage():.2f}%\")\n"
      ],
      "metadata": {
        "colab": {
          "base_uri": "https://localhost:8080/"
        },
        "collapsed": true,
        "id": "DZ7IZxIEDDYI",
        "outputId": "6813f643-ebe3-4bfd-c4c0-c9ac1bead3f5"
      },
      "execution_count": 27,
      "outputs": [
        {
          "output_type": "stream",
          "name": "stdout",
          "text": [
            "Enter student's name: Deepesh\n",
            "Enter number of subjects: 3\n",
            "Enter marks for subject 1 (out of 100): 50\n",
            "Enter marks for subject 2 (out of 100): 98\n",
            "Enter marks for subject 3 (out of 100): 45\n",
            "\n",
            "Deepesh's Percentage: 64.33%\n"
          ]
        }
      ]
    },
    {
      "cell_type": "markdown",
      "source": [
        "13. **Create a class Rectangle with methods set_dimensions() to set the dimensions and area() to calculate the area.**"
      ],
      "metadata": {
        "id": "fcanfz63EXM7"
      }
    },
    {
      "cell_type": "code",
      "source": [
        "class Rectangle:\n",
        "    def __init__(self):\n",
        "        self.length = 0\n",
        "        self.breadth = 0\n",
        "\n",
        "\n",
        "    def set_dimensions(self, length, breadth):\n",
        "        self.length = length\n",
        "        self.breadth = breadth\n",
        "\n",
        "\n",
        "    def area(self):\n",
        "        return self.length * self.breadth\n",
        "\n",
        "\n",
        "rect = Rectangle()\n",
        "\n",
        "\n",
        "while True:\n",
        "    try:\n",
        "        length = float(input(\"Enter the length of the rectangle: \"))\n",
        "        breadth = float(input(\"Enter the breadth of the rectangle: \"))\n",
        "        if length > 0 and breadth > 0:\n",
        "            break\n",
        "        else:\n",
        "            print(\"Length and breadth should be positive values.\")\n",
        "    except ValueError:\n",
        "        print(\"Wrong entry! Please enter numerical values.\")\n",
        "\n",
        "\n",
        "rect.set_dimensions(length, breadth)\n",
        "\n",
        "print(f\"\\nArea of Rectangle = {rect.area()} sq units\")\n"
      ],
      "metadata": {
        "colab": {
          "base_uri": "https://localhost:8080/"
        },
        "collapsed": true,
        "id": "UIvHvwA-EhfC",
        "outputId": "9be8c8ca-38a8-410e-f67f-003a35ce3c43"
      },
      "execution_count": 28,
      "outputs": [
        {
          "output_type": "stream",
          "name": "stdout",
          "text": [
            "Enter the length of the rectangle: 5\n",
            "Enter the breadth of the rectangle: 0\n",
            "Length and breadth should be positive values.\n",
            "Enter the length of the rectangle: 3\n",
            "Enter the breadth of the rectangle: s\n",
            "Wrong entry! Please enter numerical values.\n",
            "Enter the length of the rectangle: 6\n",
            "Enter the breadth of the rectangle: 2\n",
            "\n",
            "Area of Rectangle = 12.0 sq units\n"
          ]
        }
      ]
    },
    {
      "cell_type": "markdown",
      "source": [
        "14. **Create a class Employee with a method calculate_salary() that computes the salary based on hours worked and hourly rate. Create a derived class Manager that adds a bonus to the salary.**"
      ],
      "metadata": {
        "id": "KXjKCcImF1QZ"
      }
    },
    {
      "cell_type": "code",
      "source": [
        "\n",
        "class Employee:\n",
        "    def __init__(self, name, hours_worked, hourly_rate):\n",
        "        self.name = name\n",
        "        self.hours_worked = hours_worked\n",
        "        self.hourly_rate = hourly_rate\n",
        "\n",
        "    def calculate_salary(self):\n",
        "        salary = self.hours_worked * self.hourly_rate\n",
        "        return salary\n",
        "\n",
        "\n",
        "class Manager(Employee):\n",
        "    def __init__(self, name, hours_worked, hourly_rate, bonus):\n",
        "        super().__init__(name, hours_worked, hourly_rate)\n",
        "        self.bonus = bonus\n",
        "\n",
        "    def calculate_salary(self):\n",
        "        base_salary = super().calculate_salary()\n",
        "        total_salary = base_salary + self.bonus\n",
        "        return total_salary\n",
        "\n",
        "name = input(\"Enter Employee/Manager Name: \")\n",
        "hours_worked = float(input(\"Enter hours worked: \"))\n",
        "hourly_rate = float(input(\"Enter hourly rate (₹): \"))\n",
        "\n",
        "print(\"\\nIs this person a Manager?\")\n",
        "print(\"1. Yes\")\n",
        "print(\"2. No\")\n",
        "choice = input(\"Enter choice (1/2): \")\n",
        "\n",
        "if choice == '1':\n",
        "    bonus = float(input(\"Enter manager's bonus (₹): \"))\n",
        "    manager = Manager(name, hours_worked, hourly_rate, bonus)\n",
        "    print(f\"\\nManager {name}'s Total Salary: ₹{manager.calculate_salary():.2f}\")\n",
        "elif choice == '2':\n",
        "    employee = Employee(name, hours_worked, hourly_rate)\n",
        "    print(f\"\\nEmployee {name}'s Salary: ₹{employee.calculate_salary():.2f}\")\n",
        "else:\n",
        "    print(\"Invalid choice! Please enter 1 or 2.\")\n"
      ],
      "metadata": {
        "id": "r93YgyDRGC-q"
      },
      "execution_count": null,
      "outputs": []
    },
    {
      "cell_type": "markdown",
      "source": [
        "15. **Create a class Product with attributes name, price, and quantity. Implement a method total_price() that calculates the total price of the product.**"
      ],
      "metadata": {
        "id": "qnTFnWFAGqdV"
      }
    },
    {
      "cell_type": "code",
      "source": [
        "class Product:\n",
        "    def __init__(self, name, price, quantity):\n",
        "        self.name = name\n",
        "        self.price = price\n",
        "        self.quantity = quantity\n",
        "\n",
        "    def total_price(self):\n",
        "        return self.price * self.quantity\n",
        "\n",
        "\n",
        "product_list = []\n",
        "\n",
        "\n",
        "while True:\n",
        "    name = input(\"Enter product name: \")\n",
        "\n",
        "    while True:\n",
        "        try:\n",
        "            price = float(input(\"Enter product price (₹): \"))\n",
        "            if price >= 0:\n",
        "                break\n",
        "            else:\n",
        "                print(\" Price cannot be negative. Please enter a valid price.\")\n",
        "        except ValueError:\n",
        "            print(\" Invalid input! Please enter a numerical value for price.\")\n",
        "\n",
        "    while True:\n",
        "        try:\n",
        "            quantity = int(input(\"Enter quantity: \"))\n",
        "            if quantity >= 0:\n",
        "                break\n",
        "            else:\n",
        "                print(\" Quantity cannot be negative. Please enter a valid quantity.\")\n",
        "        except ValueError:\n",
        "            print(\" Invalid input! Please enter a numerical value for quantity.\")\n",
        "\n",
        "\n",
        "    product = Product(name, price, quantity)\n",
        "    product_list.append(product)\n",
        "\n",
        "\n",
        "    while True:\n",
        "        choice = input(\"Do you want to add another product? (yes/no): \").lower()\n",
        "        if choice == 'yes':\n",
        "            break\n",
        "        elif choice == 'no':\n",
        "            exit_program = True\n",
        "            break\n",
        "        else:\n",
        "            print(\" Invalid choice! Please enter 'yes' or 'no'.\")\n",
        "\n",
        "    if choice == 'no':\n",
        "        break\n",
        "\n",
        "\n",
        "print(\"\\n --- Bill Summary ---\")\n",
        "total_bill = 0\n",
        "for i, p in enumerate(product_list, start=1):\n",
        "    product_total = p.total_price()\n",
        "    print(f\"{i}. {p.name} - ₹{p.price:.2f} x {p.quantity} = ₹{product_total:.2f}\")\n",
        "    total_bill += product_total\n",
        "\n",
        "print(f\"\\n Grand Total: ₹{total_bill:.2f}\")\n",
        "print(\"\\n Program Ended. Thank you for shopping!\")\n"
      ],
      "metadata": {
        "id": "69abHzqBGRq8"
      },
      "execution_count": null,
      "outputs": []
    },
    {
      "cell_type": "markdown",
      "source": [
        "16. **Create a class Animal with an abstract method sound(). Create two derived classes Cow and Sheep that implement the sound() method.**"
      ],
      "metadata": {
        "id": "31WjUmDPIhoM"
      }
    },
    {
      "cell_type": "code",
      "source": [
        "from abc import ABC, abstractmethod\n",
        "\n",
        "\n",
        "class Animal(ABC):\n",
        "    @abstractmethod\n",
        "    def sound(self):\n",
        "        pass\n",
        "\n",
        "\n",
        "class Cow(Animal):\n",
        "    def sound(self):\n",
        "        print(\"Cow says: Moo Moo!\")\n",
        "\n",
        "\n",
        "class Sheep(Animal):\n",
        "    def sound(self):\n",
        "        print(\"Sheep says: Baa Baa!\")\n",
        "\n",
        "\n",
        "while True:\n",
        "    print(\"\\nSelect an Animal:\")\n",
        "    print(\"1. Cow\")\n",
        "    print(\"2. Sheep\")\n",
        "    print(\"3. Exit\")\n",
        "\n",
        "    choice = input(\"Enter your choice (1/2/3): \")\n",
        "\n",
        "    if choice == '1':\n",
        "        animal = Cow()\n",
        "        animal.sound()\n",
        "\n",
        "    elif choice == '2':\n",
        "        animal = Sheep()\n",
        "        animal.sound()\n",
        "\n",
        "    elif choice == '3':\n",
        "        print(\"Program Ended.\")\n",
        "        break\n",
        "\n",
        "    else:\n",
        "        print(\" Invalid choice! Please enter 1, 2, or 3.\")\n"
      ],
      "metadata": {
        "id": "qS9E31OQHD9Z"
      },
      "execution_count": null,
      "outputs": []
    },
    {
      "cell_type": "markdown",
      "source": [
        "17. **Create a class Book with attributes title, author, and year_published. Add a method get_book_info() that returns a formatted string with the book's details.**"
      ],
      "metadata": {
        "id": "lL2ThNCDJK66"
      }
    },
    {
      "cell_type": "code",
      "source": [
        "class Book:\n",
        "    def __init__(self, title, author, year_published):\n",
        "        self.title = title\n",
        "        self.author = author\n",
        "        self.year_published = year_published\n",
        "\n",
        "    def get_book_info(self):\n",
        "        return f\" '{self.title}' by {self.author}, published in {self.year_published}.\"\n",
        "\n",
        "\n",
        "title = input(\"Enter book title: \")\n",
        "author = input(\"Enter author's name: \")\n",
        "\n",
        "while True:\n",
        "    try:\n",
        "        year_published = int(input(\"Enter year of publication: \"))\n",
        "        if year_published > 0:\n",
        "            break\n",
        "        else:\n",
        "            print(\" Year must be a positive number.\")\n",
        "    except ValueError:\n",
        "        print(\" Invalid input! Please enter a valid year.\")\n",
        "\n",
        "\n",
        "book = Book(title, author, year_published)\n",
        "\n",
        "\n",
        "print(\"\\nBook Information:\")\n",
        "print(book.get_book_info())\n"
      ],
      "metadata": {
        "id": "nQmonE0NJZXm"
      },
      "execution_count": null,
      "outputs": []
    },
    {
      "cell_type": "markdown",
      "source": [
        "18. **Create a class House with attributes address and price. Create a derived class Mansion that adds an attribute number_of_rooms.**"
      ],
      "metadata": {
        "id": "SufLo0_CJxcs"
      }
    },
    {
      "cell_type": "code",
      "source": [
        "\n",
        "from abc import ABC\n",
        "\n",
        "\n",
        "class House:\n",
        "    def __init__(self, address, price):\n",
        "        self.address = address\n",
        "        self.price = price\n",
        "\n",
        "    def show_info(self):\n",
        "        print(f\" Address: {self.address}\")\n",
        "        print(f\" Price: ₹{self.price:.2f}\")\n",
        "\n",
        "\n",
        "class Mansion(House):\n",
        "    def __init__(self, address, price, number_of_rooms):\n",
        "        super().__init__(address, price)\n",
        "        self.number_of_rooms = number_of_rooms\n",
        "\n",
        "    def show_info(self):\n",
        "        super().show_info()\n",
        "        print(f\" Number of Rooms: {self.number_of_rooms}\")\n",
        "\n",
        "\n",
        "def get_positive_float(prompt):\n",
        "    while True:\n",
        "        try:\n",
        "            value = float(input(prompt))\n",
        "            if value > 0:\n",
        "                return value\n",
        "            else:\n",
        "                print(\" Value must be a positive number.\")\n",
        "        except ValueError:\n",
        "            print(\" Invalid input! Please enter a numerical value.\")\n",
        "\n",
        "\n",
        "def get_positive_int(prompt):\n",
        "    while True:\n",
        "        try:\n",
        "            value = int(input(prompt))\n",
        "            if value > 0:\n",
        "                return value\n",
        "            else:\n",
        "                print(\" Value must be a positive integer.\")\n",
        "        except ValueError:\n",
        "            print(\" Invalid input! Please enter an integer value.\")\n",
        "\n",
        "\n",
        "while True:\n",
        "    print(\"\\n Select what you want to create:\")\n",
        "    print(\"1. House\")\n",
        "    print(\"2. Mansion\")\n",
        "    print(\"3. Exit\")\n",
        "\n",
        "    choice = input(\"Enter your choice (1/2/3): \")\n",
        "\n",
        "    if choice == '1':\n",
        "        address = input(\"Enter house address: \")\n",
        "        price = get_positive_float(\"Enter house price (₹): \")\n",
        "        house = House(address, price)\n",
        "        print(\"\\n House Details:\")\n",
        "        house.show_info()\n",
        "\n",
        "    elif choice == '2':\n",
        "        address = input(\"Enter mansion address: \")\n",
        "        price = get_positive_float(\"Enter mansion price (₹): \")\n",
        "        rooms = get_positive_int(\"Enter number of rooms: \")\n",
        "        mansion = Mansion(address, price, rooms)\n",
        "        print(\"\\n Mansion Details:\")\n",
        "        mansion.show_info()\n",
        "\n",
        "    elif choice == '3':\n",
        "        print(\" Program Ended. Thank you!\")\n",
        "        break\n",
        "\n",
        "    else:\n",
        "        print(\" Invalid choice! Please enter 1, 2, or 3.\")\n"
      ],
      "metadata": {
        "id": "Vt3TftntJfZD"
      },
      "execution_count": null,
      "outputs": []
    }
  ]
}